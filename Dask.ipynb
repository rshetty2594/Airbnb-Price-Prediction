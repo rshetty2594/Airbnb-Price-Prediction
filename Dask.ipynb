{
  "nbformat": 4,
  "nbformat_minor": 0,
  "metadata": {
    "colab": {
      "name": "Dask.ipynb",
      "version": "0.3.2",
      "provenance": [],
      "collapsed_sections": []
    },
    "kernelspec": {
      "name": "python3",
      "display_name": "Python 3"
    },
    "accelerator": "GPU"
  },
  "cells": [
    {
      "cell_type": "code",
      "metadata": {
        "id": "NvHtxGfi_fKe",
        "colab_type": "code",
        "colab": {}
      },
      "source": [
        "# -*- coding: utf-8 -*-\n",
        "\"\"\"\n",
        "Created on Tue Aug  6 15:47:29 2019\n",
        "\n",
        "@author: Tripti Santani\n",
        "\"\"\"\n",
        "\n",
        "import numpy as np\n",
        "import pandas as pd\n",
        "\n",
        "import logging\n",
        "logging.getLogger().setLevel(logging.ERROR)\n",
        "\n",
        "\n",
        "#class feature_builder():\n",
        "    \n",
        "def numeric_conversion(listings):\n",
        "\n",
        "    #Converting into numeric data\n",
        "    listings['bedrooms'] = pd.to_numeric(listings['bedrooms'],errors='coerce')\n",
        "    listings['accommodates'] = pd.to_numeric(listings['accommodates'],errors='coerce')\n",
        "    listings['bathrooms'] = pd.to_numeric(listings['bathrooms'],errors='coerce')\n",
        "    listings['number_of_reviews']=pd.to_numeric(listings['number_of_reviews'],errors='coerce')\n",
        "    listings['beds']=pd.to_numeric(listings['beds'],errors='coerce')\n",
        "    listings['number_of_reviews']=pd.to_numeric(listings['number_of_reviews'],errors='coerce')\n",
        "    listings['host_listings_count']=pd.to_numeric(listings['host_listings_count'],errors='coerce')\n",
        "    listings['review_scores_rating']=pd.to_numeric(listings['review_scores_rating'],errors='coerce')\n",
        "    listings['zipcode']=pd.to_numeric(listings['zipcode'],errors='coerce')\n",
        "    listings['monthly_price'] = pd.to_numeric(listings['monthly_price'].apply(lambda x: str(x).replace('$', '').replace(',', '')),errors='coerce')\n",
        "    listings['price'] = pd.to_numeric(listings['price'].apply(lambda x: str(x).replace('$', '').replace(',', '')),errors='coerce')\n",
        "    listings['weekly_price'] = pd.to_numeric(listings['weekly_price'].apply(lambda x: str(x).replace('$', '').replace(',', '')),errors='coerce')\n",
        "    listings['security_deposit'] = pd.to_numeric(listings['security_deposit'].apply(lambda x: str(x).replace('$', '').replace(',', '')),errors='coerce')\n",
        "    listings['cleaning_fee'] = pd.to_numeric(listings['cleaning_fee'].apply(lambda x: str(x).replace('$', '').replace(',', '')),errors='coerce')\n",
        "    listings['extra_people'] = pd.to_numeric(listings['extra_people'].apply(lambda x: str(x).replace('$', '').replace(',', '')),errors='coerce')\n",
        "    listings['host_response_rate'] = pd.to_numeric(listings['host_response_rate'].apply(lambda x: str(x).replace('%', '')),errors='coerce')\n",
        "\n",
        "    df = listings[[\"host_response_rate\", \"host_acceptance_rate\", \"host_is_superhost\",\"security_deposit\",\"cleaning_fee\",\"extra_people\",\n",
        "                   \"host_listings_count\", \"zipcode\", \"property_type\",\"room_type\", \"accommodates\", \"bathrooms\", \"bedrooms\",\n",
        "                   \"beds\", \"price\", \"number_of_reviews\", \"review_scores_rating\", \"cancellation_policy\", \n",
        "                   \"reviews_per_month\"]]\n",
        "    return df\n",
        "\n",
        "def missing_value(df):\n",
        "  \n",
        "    # Handling the missing values:\n",
        "    df.price=df.price.fillna(df.price.mean)\n",
        "    df.security_deposit=df.security_deposit.fillna(0)\n",
        "    df.reviews_per_month=df.reviews_per_month.fillna(0)\n",
        "    df.cleaning_fee=df.cleaning_fee.fillna(0)\n",
        "\n",
        "    # drop NaN rows\n",
        "    df2=df.dropna(axis=0)\n",
        "    \n",
        "    return df2\n",
        "\n",
        "def feature(df2):\n",
        "\n",
        "    pd.options.mode.chained_assignment = None  # default='warn'\n",
        "    df2['host_response_rate'] = df2['host_response_rate'].astype(str)\n",
        "    df2['host_acceptance_rate'] = df2['host_acceptance_rate'].astype(str)\n",
        "    df2['price'] = df2['price'].astype(str)\n",
        "\n",
        "    # clean data\n",
        "    pd.options.mode.chained_assignment = None  # default='warn'\n",
        "    df2['host_acceptance_rate'] = df2['host_acceptance_rate'].str.replace(\"%\", \"\").astype(\"float\")\n",
        "    df2['price'] = df2['price'].str.replace(\"[$, ]\", \"\").astype(\"float\")\n",
        "    df2['host_response_rate'] = df2['host_response_rate'].str.replace(\"%\", \"\").astype(\"float\")\n",
        "\n",
        "    df2['superhost']=np.where(df2['host_is_superhost']=='t',1,0)\n",
        "    del df2['host_is_superhost']\n",
        "\n",
        "\n",
        "    # select non-numeric variables and create dummies\n",
        "    non_num_vars = df2.select_dtypes(include=['object']).columns\n",
        "    dummy_vars = pd.get_dummies(df2[non_num_vars])\n",
        "\n",
        "    # drop non-numeric variables from df2 and add the dummies\n",
        "    df3=df2.drop(non_num_vars,axis=1)\n",
        "    df3 = pd.merge(df3,dummy_vars, left_index=True, right_index=True)\n",
        "\n",
        "    #Droping the missing values\n",
        "\n",
        "    df3=df3.dropna()\n",
        "    return df3"
      ],
      "execution_count": 0,
      "outputs": []
    },
    {
      "cell_type": "code",
      "metadata": {
        "id": "rE9PR54F_6Kt",
        "colab_type": "code",
        "colab": {}
      },
      "source": [
        "def loadData(filename):\n",
        "    listings=pd.read_csv(filename)\n",
        "    return listings\n"
      ],
      "execution_count": 0,
      "outputs": []
    },
    {
      "cell_type": "code",
      "metadata": {
        "id": "q90q_gMykqfU",
        "colab_type": "code",
        "colab": {}
      },
      "source": [
        "from sklearn import linear_model\n",
        "from sklearn.model_selection import GridSearchCV\n",
        "from sklearn.ensemble import RandomForestRegressor\n",
        "from sklearn.model_selection import train_test_split\n",
        "from sklearn import linear_model\n",
        "from sklearn.metrics import accuracy_score\n",
        "from sklearn.metrics import r2_score\n",
        "from sklearn.metrics import mean_squared_error\n",
        "from sklearn.metrics import mean_squared_error\n",
        "from math import sqrt\n",
        "\n",
        "target_variable = [\"price\"]\n",
        "\n",
        "def train_model_ridge(dataframe):\n",
        "    model_object = {}\n",
        "    print (\"Training Ridge Regression\")\n",
        "    print (dataframe.columns.tolist())\n",
        "    X_train, X_test, y_train, y_test = train_test_split(dataframe.drop(target_variable, axis=1),\n",
        "                                                        dataframe.price)\n",
        "    model = linear_model.LinearRegression()\n",
        "    model.fit(X_train, y_train)\n",
        "    y_test_pred=model.predict(X_test)\n",
        "    y_train_pred=model.predict(X_train)\n",
        "    rms_test=sqrt(mean_squared_error(y_test,y_test_pred))\n",
        "    mean_squared_train=mean_squared_error(y_train, y_train_pred)\n",
        "    mean_squared_test=mean_squared_error(y_test, y_test_pred)\n",
        "    r2_score_train=(r2_score(y_train, y_train_pred))\n",
        "    r2_score_test=r2_score(y_test, y_test_pred)\n",
        "    print('RMSE',rms_test)\n",
        "    \n",
        "    return mean_squared_train,mean_squared_test,r2_score_train,r2_score_test,rms_test,model"
      ],
      "execution_count": 0,
      "outputs": []
    },
    {
      "cell_type": "code",
      "metadata": {
        "id": "K_hUQ5hKk4Xs",
        "colab_type": "code",
        "colab": {}
      },
      "source": [
        "def train_random_forest(dataframe):\n",
        "    X_train, X_test, y_train, y_test = train_test_split(dataframe.drop(target_variable, axis=1),\n",
        "                                                        dataframe.price)\n",
        "    print (\"Training Random Forest\")\n",
        "    rf = RandomForestRegressor(n_estimators=100, criterion='mse', n_jobs=5,verbose=2)\n",
        "    rf.fit(X_train, y_train)\n",
        "    y_test_pred=rf.predict(X_test)\n",
        "    y_train_pred=rf.predict(X_train)\n",
        "    rms_test=sqrt(mean_squared_error(y_test,y_test_pred))\n",
        "    mean_squared_train=mean_squared_error(y_train, y_train_pred)\n",
        "    mean_squared_test=mean_squared_error(y_test, y_test_pred)\n",
        "    r2_score_train=(r2_score(y_train, y_train_pred))\n",
        "    r2_score_test=r2_score(y_test, y_test_pred)\n",
        "    print('RMSE',rms_test)\n",
        "    \n",
        "    return mean_squared_train,mean_squared_test,r2_score_train,r2_score_test,rms_test,rf"
      ],
      "execution_count": 0,
      "outputs": []
    },
    {
      "cell_type": "code",
      "metadata": {
        "id": "DTJm5e4EfwiX",
        "colab_type": "code",
        "colab": {}
      },
      "source": [
        "from dask.multiprocessing import get\n",
        "dsk={'Task0':(loadData,'/content/listings.csv'),\n",
        "     'Task1':(numeric_conversion,'Task0'),\n",
        "     'Task2':(missing_value,'Task1'),\n",
        "     'Task3':(feature,'Task2'),\n",
        "     'Task4': (train_model_ridge,'Task3'),\n",
        "     'Task5': (train_random_forest ,'Task3')}"
      ],
      "execution_count": 0,
      "outputs": []
    },
    {
      "cell_type": "code",
      "metadata": {
        "id": "_WQAHbrbhfoq",
        "colab_type": "code",
        "outputId": "4a14e44b-34ec-489a-9ae6-d2719b92794f",
        "colab": {
          "base_uri": "https://localhost:8080/",
          "height": 188
        }
      },
      "source": [
        "get(dsk,'Task4')"
      ],
      "execution_count": 0,
      "outputs": [
        {
          "output_type": "stream",
          "text": [
            "Training Ridge Regression\n",
            "['host_response_rate', 'host_acceptance_rate', 'security_deposit', 'cleaning_fee', 'extra_people', 'host_listings_count', 'zipcode', 'accommodates', 'bathrooms', 'bedrooms', 'beds', 'price', 'number_of_reviews', 'review_scores_rating', 'reviews_per_month', 'superhost', 'property_type_Apartment', 'property_type_Bed & Breakfast', 'property_type_Boat', 'property_type_Bungalow', 'property_type_Cabin', 'property_type_Camper/RV', 'property_type_Chalet', 'property_type_Condominium', 'property_type_Dorm', 'property_type_House', 'property_type_Loft', 'property_type_Other', 'property_type_Tent', 'property_type_Townhouse', 'property_type_Treehouse', 'property_type_Yurt', 'room_type_Entire home/apt', 'room_type_Private room', 'room_type_Shared room', 'cancellation_policy_flexible', 'cancellation_policy_moderate', 'cancellation_policy_strict']\n",
            "RMSE 45.66469121350048\n"
          ],
          "name": "stdout"
        },
        {
          "output_type": "execute_result",
          "data": {
            "text/plain": [
              "(2593.5425550740347,\n",
              " 2085.2640236243483,\n",
              " 0.6301652364921195,\n",
              " 0.6210244563347187,\n",
              " 45.66469121350048,\n",
              " LinearRegression(copy_X=True, fit_intercept=True, n_jobs=None, normalize=False))"
            ]
          },
          "metadata": {
            "tags": []
          },
          "execution_count": 100
        }
      ]
    },
    {
      "cell_type": "code",
      "metadata": {
        "id": "LDJZlXgvp4LQ",
        "colab_type": "code",
        "outputId": "0ff3e228-23ed-4e0d-918a-73e5286889b7",
        "colab": {
          "base_uri": "https://localhost:8080/",
          "height": 1000
        }
      },
      "source": [
        "get(dsk,'Task5')"
      ],
      "execution_count": 0,
      "outputs": [
        {
          "output_type": "stream",
          "text": [
            "Training Random Forest\n"
          ],
          "name": "stdout"
        },
        {
          "output_type": "stream",
          "text": [
            "[Parallel(n_jobs=5)]: Using backend ThreadingBackend with 5 concurrent workers.\n"
          ],
          "name": "stderr"
        },
        {
          "output_type": "stream",
          "text": [
            "building tree 1 of 100\n",
            "building tree 4 of 100\n",
            "building tree 3 of 100\n",
            "building tree 2 of 100\n",
            "building tree 5 of 100\n",
            "building tree 6 of 100\n",
            "building tree 7 of 100\n",
            "building tree 8 of 100\n",
            "building tree 10 of 100\n",
            "building tree 11 of 100\n",
            "building tree 9 of 100\n",
            "building tree 12 of 100\n",
            "building tree 14 of 100\n",
            "building tree 13 of 100\n",
            "building tree 16 of 100\n",
            "building tree 15 of 100\n",
            "building tree 17 of 100\n",
            "building tree 19 of 100\n",
            "building tree 18 of 100\n",
            "building tree 20 of 100\n",
            "building tree 21 of 100\n",
            "building tree 23 of 100\n",
            "building tree 22 of 100\n",
            "building tree 24 of 100\n",
            "building tree 25 of 100\n",
            "building tree 26 of 100\n",
            "building tree 28 of 100\n",
            "building tree 27 of 100\n",
            "building tree 29 of 100\n",
            "building tree 30 of 100\n",
            "building tree 32 of 100\n",
            "building tree 33 of 100\n",
            "building tree 31 of 100\n",
            "building tree 34 of 100\n",
            "building tree 36 of 100\n"
          ],
          "name": "stdout"
        },
        {
          "output_type": "stream",
          "text": [
            "[Parallel(n_jobs=5)]: Done  31 tasks      | elapsed:    0.4s\n"
          ],
          "name": "stderr"
        },
        {
          "output_type": "stream",
          "text": [
            "building tree 35 of 100\n",
            "building tree 39 of 100\n",
            "building tree 37 of 100\n",
            "building tree 38 of 100\n",
            "building tree 40 of 100\n",
            "building tree 41 of 100\n",
            "building tree 42 of 100\n",
            "building tree 45 of 100\n",
            "building tree 43 of 100\n",
            "building tree 46 of 100\n",
            "building tree 44 of 100\n",
            "building tree 47 of 100\n",
            "building tree 48 of 100\n",
            "building tree 51 of 100\n",
            "building tree 50 of 100\n",
            "building tree 49 of 100\n",
            "building tree 52 of 100\n",
            "building tree 53 of 100\n",
            "building tree 55 of 100\n",
            "building tree 54 of 100\n",
            "building tree 56 of 100\n",
            "building tree 58 of 100\n",
            "building tree 57 of 100\n",
            "building tree 59 of 100\n",
            "building tree 61 of 100\n",
            "building tree 60 of 100\n",
            "building tree 62 of 100\n",
            "building tree 63 of 100\n",
            "building tree 64 of 100\n",
            "building tree 65 of 100\n",
            "building tree 66 of 100\n",
            "building tree 67 of 100\n",
            "building tree 69 of 100\n",
            "building tree 68 of 100\n",
            "building tree 70 of 100\n",
            "building tree 71 of 100\n",
            "building tree 73 of 100\n",
            "building tree 72 of 100\n",
            "building tree 74 of 100\n",
            "building tree 76 of 100\n",
            "building tree 79 of 100\n",
            "building tree 75 of 100\n",
            "building tree 77 of 100\n",
            "building tree 78 of 100\n",
            "building tree 80 of 100\n",
            "building tree 81 of 100\n",
            "building tree 82 of 100\n",
            "building tree 84 of 100\n",
            "building tree 83 of 100\n",
            "building tree 86 of 100\n",
            "building tree 85 of 100\n",
            "building tree 87 of 100\n",
            "building tree 88 of 100\n",
            "building tree 89 of 100\n",
            "building tree 91 of 100\n",
            "building tree 90 of 100\n",
            "building tree 92 of 100\n",
            "building tree 93 of 100\n",
            "building tree 94 of 100\n",
            "building tree 95 of 100\n",
            "building tree 96 of 100\n",
            "building tree 97 of 100\n",
            "building tree 99 of 100\n",
            "building tree 98 of 100\n",
            "building tree 100 of 100\n"
          ],
          "name": "stdout"
        },
        {
          "output_type": "stream",
          "text": [
            "[Parallel(n_jobs=5)]: Done 100 out of 100 | elapsed:    1.3s finished\n",
            "/usr/local/lib/python3.6/dist-packages/sklearn/ensemble/base.py:154: UserWarning: Loky-backed parallel loops cannot be called in a multiprocessing, setting n_jobs=1\n",
            "  n_jobs = min(effective_n_jobs(n_jobs), n_estimators)\n",
            "[Parallel(n_jobs=1)]: Using backend SequentialBackend with 1 concurrent workers.\n",
            "[Parallel(n_jobs=1)]: Done   1 out of   1 | elapsed:    0.0s remaining:    0.0s\n",
            "[Parallel(n_jobs=1)]: Done 100 out of 100 | elapsed:    0.0s finished\n",
            "/usr/local/lib/python3.6/dist-packages/sklearn/ensemble/base.py:154: UserWarning: Loky-backed parallel loops cannot be called in a multiprocessing, setting n_jobs=1\n",
            "  n_jobs = min(effective_n_jobs(n_jobs), n_estimators)\n",
            "[Parallel(n_jobs=1)]: Using backend SequentialBackend with 1 concurrent workers.\n",
            "[Parallel(n_jobs=1)]: Done   1 out of   1 | elapsed:    0.0s remaining:    0.0s\n",
            "[Parallel(n_jobs=1)]: Done 100 out of 100 | elapsed:    0.0s finished\n"
          ],
          "name": "stderr"
        },
        {
          "output_type": "stream",
          "text": [
            "RMSE 43.17238237054093\n"
          ],
          "name": "stdout"
        },
        {
          "output_type": "execute_result",
          "data": {
            "text/plain": [
              "(365.55987674535413,\n",
              " 1863.8545995481932,\n",
              " 0.9475304023053132,\n",
              " 0.6698196063566645,\n",
              " 43.17238237054093,\n",
              " RandomForestRegressor(bootstrap=True, criterion='mse', max_depth=None,\n",
              "                       max_features='auto', max_leaf_nodes=None,\n",
              "                       min_impurity_decrease=0.0, min_impurity_split=None,\n",
              "                       min_samples_leaf=1, min_samples_split=2,\n",
              "                       min_weight_fraction_leaf=0.0, n_estimators=100, n_jobs=5,\n",
              "                       oob_score=False, random_state=None, verbose=2,\n",
              "                       warm_start=False))"
            ]
          },
          "metadata": {
            "tags": []
          },
          "execution_count": 101
        }
      ]
    },
    {
      "cell_type": "code",
      "metadata": {
        "id": "fJU3k3Rc_h81",
        "colab_type": "code",
        "colab": {}
      },
      "source": [
        "# -*- coding: utf-8 -*-\n",
        "\"\"\"\n",
        "Created on Tue Aug  6 16:03:50 2019\n",
        "\n",
        "@author: Tripti Santani\n",
        "\"\"\"\n",
        "\n",
        "from sklearn import linear_model\n",
        "from sklearn.model_selection import GridSearchCV\n",
        "from sklearn.ensemble import RandomForestRegressor\n",
        "from sklearn.model_selection import train_test_split\n",
        "\n",
        "target_variable = [\"price\"]\n",
        "\n",
        "def train_model_ridge(dataframe):\n",
        "    model_object = {}\n",
        "    print (\"Training Ridge Regression\")\n",
        "    print (dataframe.columns.tolist())\n",
        "    ridge = linear_model.Ridge(alpha=0.5)\n",
        "    X_train, X_test, y_train, y_test = train_test_split(dataframe.drop(target_variable, axis=1),\n",
        "                                                        dataframe.Sales)\n",
        "    model = ridge.fit(X_train, y_train)\n",
        "    model.fit(X_train, y_train)\n",
        "    model_object[\"model\"] = model\n",
        "    model_object[\"training_features\"] = X_train.columns.tolist()\n",
        "    return (model_object)\n",
        "\n",
        "def train_model_with_grid_search(dataframe):\n",
        "    print (\"Training Ridge Regression\")\n",
        "    print (dataframe.columns.tolist())\n",
        "    ridge = linear_model.Ridge()\n",
        "    params_grid = {\n",
        "        \"alpha\": [0.01, 0.05, 0.1, 0.5]\n",
        "    }\n",
        "    X_train, X_test, y_train, y_test = train_test_split(dataframe.drop(target_variable, axis=1),\n",
        "                                                        dataframe.Sales)\n",
        "    model = GridSearchCV(ridge, param_grid=params_grid, verbose=2, cv=5, refit=True, n_jobs=5)\n",
        "    model.fit(X_train, y_train)\n",
        "    return model.best_estimator_\n",
        "\n",
        "\n",
        "def train_random_forest(dataframe):\n",
        "    X_train, X_test, y_train, y_test = train_test_split(dataframe.drop(target_variable, axis=1),\n",
        "                                                        dataframe.Sales)\n",
        "    print (\"Training Random Forest\")\n",
        "    rf = RandomForestRegressor(n_estimators=100, criterion='mse', n_jobs=5,verbose=2)\n",
        "    rf.fit(X_train, y_train)\n",
        "    return rf\n",
        "\n",
        "def test_model_ridge(dataframe,model):\n",
        "    df = dataframe.drop(target_variable, axis=1)\n",
        "    return model.predict(df)\n",
        "\n",
        "if __name__ == '__main__':\n",
        "    pass"
      ],
      "execution_count": 0,
      "outputs": []
    }
  ]
}